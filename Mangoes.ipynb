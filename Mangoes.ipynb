{
  "nbformat": 4,
  "nbformat_minor": 0,
  "metadata": {
    "colab": {
      "provenance": []
    },
    "kernelspec": {
      "name": "python3",
      "display_name": "Python 3"
    },
    "language_info": {
      "name": "python"
    }
  },
  "cells": [
    {
      "cell_type": "code",
      "execution_count": null,
      "metadata": {
        "id": "TIjIZxwsfMyZ"
      },
      "outputs": [],
      "source": [
        "import tensorflow as tf\n",
        "from tensorflow import keras\n",
        "from tensorflow.keras import layers\n",
        "from tensorflow.keras.preprocessing.image import ImageDataGenerator\n",
        "# Define image size and batch size\n",
        "IMG_SIZE = 224\n",
        "BATCH_SIZE = 32"
      ]
    },
    {
      "cell_type": "code",
      "source": [
        "#Define data generators for train,validation and test sets\n",
        "train_datagen=ImageDataGenerator(\n",
        "    rescale=1./255,\n",
        "    validation_split=0.2\n",
        ")\n",
        "train_generator=train_datagen.flow_from_directory('/content/drive/MyDrive/mango',\n",
        "                target_size=(IMG_SIZE,IMG_SIZE),\n",
        "                batch_size=BATCH_SIZE,\n",
        "                class_mode='binary',\n",
        "                subset='training'\n",
        ")\n",
        "val_generator=train_datagen.flow_from_directory('/content/drive/MyDrive/mango',\n",
        "                target_size=(IMG_SIZE,IMG_SIZE),\n",
        "                batch_size=BATCH_SIZE,\n",
        "                class_mode='binary',\n",
        "                subset='validation'\n",
        ")\n",
        "test_datagen=ImageDataGenerator(rescale=1./255)\n",
        "\n",
        "test_generator=test_datagen.flow_from_directory('/content/drive/MyDrive/mango',\n",
        "                target_size=(IMG_SIZE,IMG_SIZE),\n",
        "                batch_size=BATCH_SIZE,\n",
        "                class_mode='binary',\n",
        "\n",
        ")"
      ],
      "metadata": {
        "id": "uJ7SmPgCkAGf",
        "colab": {
          "base_uri": "https://localhost:8080/"
        },
        "outputId": "3000cdfc-4b5d-4248-e155-a74e1d670c8a"
      },
      "execution_count": null,
      "outputs": [
        {
          "output_type": "stream",
          "name": "stdout",
          "text": [
            "Found 775 images belonging to 2 classes.\n",
            "Found 193 images belonging to 2 classes.\n",
            "Found 968 images belonging to 2 classes.\n"
          ]
        }
      ]
    },
    {
      "cell_type": "code",
      "source": [
        "#Define the model\n",
        "model = keras.Sequential([\n",
        "    layers.Conv2D(32, (3,3),activation='relu',input_shape=(IMG_SIZE,IMG_SIZE,3)),\n",
        "    layers.MaxPooling2D((2,2)),\n",
        "    layers.Conv2D(64, (3,3),activation='relu'),\n",
        "    layers.MaxPooling2D((2,2)),\n",
        "    layers.Conv2D(128, (3,3),activation='relu'),\n",
        "    layers.MaxPooling2D((2,2)),\n",
        "    layers.Flatten(),\n",
        "    layers.Dense(128, activation=\"relu\"),\n",
        "    layers.Dense(1, activation=\"sigmoid\"),\n",
        "  ])"
      ],
      "metadata": {
        "id": "u8xtozHBk9MJ"
      },
      "execution_count": null,
      "outputs": []
    },
    {
      "cell_type": "code",
      "source": [
        "#compile the model\n",
        "model.compile(optimizer='adam', loss='binary_crossentropy', metrics=['accuracy'])"
      ],
      "metadata": {
        "id": "gSdrdaRSlA24"
      },
      "execution_count": null,
      "outputs": []
    },
    {
      "cell_type": "code",
      "source": [
        "history = model.fit(train_generator,validation_data=val_generator,epochs=5)"
      ],
      "metadata": {
        "colab": {
          "base_uri": "https://localhost:8080/"
        },
        "id": "wCunsXZzlElg",
        "outputId": "7076215c-5e7a-41a1-d1ab-04b396790c18"
      },
      "execution_count": null,
      "outputs": [
        {
          "output_type": "stream",
          "name": "stdout",
          "text": [
            "Epoch 1/5\n",
            "25/25 [==============================] - 105s 4s/step - loss: 0.2311 - accuracy: 0.9548 - val_loss: 0.1284 - val_accuracy: 0.9585\n",
            "Epoch 2/5\n",
            "25/25 [==============================] - 94s 4s/step - loss: 0.0624 - accuracy: 0.9832 - val_loss: 0.1207 - val_accuracy: 0.9637\n",
            "Epoch 3/5\n",
            "25/25 [==============================] - 94s 4s/step - loss: 0.0363 - accuracy: 0.9871 - val_loss: 0.1680 - val_accuracy: 0.9689\n",
            "Epoch 4/5\n",
            "25/25 [==============================] - 94s 4s/step - loss: 0.0425 - accuracy: 0.9897 - val_loss: 0.2163 - val_accuracy: 0.9689\n",
            "Epoch 5/5\n",
            "25/25 [==============================] - 94s 4s/step - loss: 0.0336 - accuracy: 0.9935 - val_loss: 0.3167 - val_accuracy: 0.9585\n"
          ]
        }
      ]
    },
    {
      "cell_type": "code",
      "source": [
        "model.save(\"Model.h5\",\"label.txt\")"
      ],
      "metadata": {
        "id": "w3IJksCFoDTz"
      },
      "execution_count": null,
      "outputs": []
    },
    {
      "cell_type": "code",
      "source": [
        "from tensorflow.keras.models import load_model\n",
        "from tensorflow.keras.preprocessing import image\n",
        "import numpy as np\n",
        "# Load the saved model\n",
        "model = load_model('/content/Model.h5')\n",
        "# Load and preprocess the test image\n",
        "test_image_path = '/content/drive/MyDrive/mango/UnRipe/GUTI_01_A.jpg'\n",
        "img = image.load_img(test_image_path, target_size=(224, 224))\n",
        "img_array = image.img_to_array(img)\n",
        "img_array = np.expand_dims(img_array, axis=0)  # Add batch dimension\n",
        "img_array /= 255.  # Normalize the pixel values\n",
        "# Make predictions\n",
        "prediction = model.predict(img_array)\n",
        "# Print the prediction\n",
        "if prediction < 0.5:\n",
        "    print(\"Prediction: Ripe (Probability:\", prediction[0][0], \")\")\n",
        "else:\n",
        "    print(\"Prediction: Unripe (Probability:\", prediction[0][0], \")\")"
      ],
      "metadata": {
        "colab": {
          "base_uri": "https://localhost:8080/"
        },
        "id": "KCSllNQ_oJfZ",
        "outputId": "2d263731-1971-4260-e5d7-70a909c42556"
      },
      "execution_count": null,
      "outputs": [
        {
          "output_type": "stream",
          "name": "stdout",
          "text": [
            "1/1 [==============================] - 0s 101ms/step\n",
            "Prediction: Unripe (Probability: 0.99979365 )\n"
          ]
        }
      ]
    }
  ]
}