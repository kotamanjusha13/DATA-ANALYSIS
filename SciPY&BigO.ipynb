{
  "nbformat": 4,
  "nbformat_minor": 0,
  "metadata": {
    "colab": {
      "provenance": []
    },
    "kernelspec": {
      "name": "python3",
      "display_name": "Python 3"
    },
    "language_info": {
      "name": "python"
    }
  },
  "cells": [
    {
      "cell_type": "code",
      "execution_count": null,
      "metadata": {
        "id": "g4_amHVLqOwj",
        "outputId": "063fcc22-c2e0-4d72-adfc-9fce32683b52",
        "colab": {
          "base_uri": "https://localhost:8080/"
        }
      },
      "outputs": [
        {
          "output_type": "stream",
          "name": "stdout",
          "text": [
            "t-statistic: -1.1450173670383255\n",
            "p-value: 0.2615641461880169\n",
            "Fail to reject the null hypothesis. There is not enough evidence to suggest that the sample mean differs significantly from the population mean.\n"
          ]
        }
      ],
      "source": [
        "import numpy as np\n",
        "from scipy import stats\n",
        "\n",
        "# Sample data (random numbers)\n",
        "np.random.seed(42)  # for reproducibility\n",
        "sample_data = np.random.normal(loc=10, scale=2, size=30)  # sample of 30 observations from a normal distribution with mean 10 and standard deviation 2\n",
        "\n",
        "# Population parameters\n",
        "population_mean = 10  # hypothesized population mean\n",
        "\n",
        "# Perform one-sample t-test\n",
        "t_statistic, p_value = stats.ttest_1samp(sample_data, population_mean)\n",
        "\n",
        "# Interpret the results\n",
        "alpha = 0.05  # significance level\n",
        "print(\"t-statistic:\", t_statistic)\n",
        "print(\"p-value:\", p_value)\n",
        "\n",
        "if p_value < alpha:\n",
        "    print(\"Reject the null hypothesis. There is enough evidence to suggest that the sample mean differs significantly from the population mean.\")\n",
        "else:\n",
        "    print(\"Fail to reject the null hypothesis. There is not enough evidence to suggest that the sample mean differs significantly from the population mean.\")"
      ]
    },
    {
      "cell_type": "code",
      "source": [
        "#generate sample data\n",
        "import numpy as np\n",
        "import pandas as pd\n",
        "np.random.seed(0)\n",
        "data = pd.DataFrame({\n",
        "    'Treatment': np.random.choice(['A','B','C'],size=100),\n",
        "    'Score':np.random.normal(loc=10,scale=2,size=100)\n",
        "})\n",
        "print(data)"
      ],
      "metadata": {
        "id": "VeN44kki1XAo",
        "colab": {
          "base_uri": "https://localhost:8080/"
        },
        "outputId": "4c07c05a-d18e-4088-e3ca-7fc558b2e5c2"
      },
      "execution_count": null,
      "outputs": [
        {
          "output_type": "stream",
          "name": "stdout",
          "text": [
            "   Treatment      Score\n",
            "0          A   8.626821\n",
            "1          B  10.029747\n",
            "2          A   9.248668\n",
            "3          B   9.923553\n",
            "4          B  10.735949\n",
            "..       ...        ...\n",
            "95         A   9.933528\n",
            "96         C  10.131283\n",
            "97         A  10.531571\n",
            "98         B  12.303684\n",
            "99         C  10.276086\n",
            "\n",
            "[100 rows x 2 columns]\n"
          ]
        }
      ]
    },
    {
      "cell_type": "code",
      "source": [
        "#Caluculate mean score for each treatment group\n",
        "mean_score_per_group = data.groupby('Treatment')['Score'].mean()\n",
        "print(mean_score_per_group)"
      ],
      "metadata": {
        "colab": {
          "base_uri": "https://localhost:8080/"
        },
        "id": "yi3yQY6Z3Me-",
        "outputId": "d031505a-101e-4d5a-fb56-e4e33cff0428"
      },
      "execution_count": null,
      "outputs": [
        {
          "output_type": "stream",
          "name": "stdout",
          "text": [
            "Treatment\n",
            "A     9.611241\n",
            "B    10.099304\n",
            "C    10.010667\n",
            "Name: Score, dtype: float64\n"
          ]
        }
      ]
    },
    {
      "cell_type": "code",
      "source": [
        "#Hypothesis Testing (t-test)\n",
        "from scipy import stats\n",
        "group_A = data[data['Treatment'] == 'A']['Score']\n",
        "group_B = data[data['Treatment'] == 'B']['Score']\n",
        "t_stat,p_value = stats.ttest_ind(group_A,group_B)\n",
        "print(\"t-statistic:\",t_stat)\n",
        "print(\"p-value:\",p_value)"
      ],
      "metadata": {
        "colab": {
          "base_uri": "https://localhost:8080/"
        },
        "id": "y2swIhjT3z7S",
        "outputId": "4a93ba0d-131b-4c5b-a3d7-77ea4e47603f"
      },
      "execution_count": null,
      "outputs": [
        {
          "output_type": "stream",
          "name": "stdout",
          "text": [
            "t-statistic: -1.0341676575352792\n",
            "p-value: 0.3045674995802033\n"
          ]
        }
      ]
    },
    {
      "cell_type": "code",
      "source": [
        "#ANOVA(One-way ANOVA)\n",
        "f_stat,p_value = stats.f_oneway(data[data['Treatment'] == 'A']['Score'],\n",
        "                                data[data['Treatment'] == 'B']['Score'],\n",
        "                                data[data['Treatment'] == 'C']['Score'])\n",
        "print(\"F_statistic:\",f_stat)\n",
        "print(\"p_value:\",p_value)\n"
      ],
      "metadata": {
        "colab": {
          "base_uri": "https://localhost:8080/"
        },
        "id": "77XD8PrK5mib",
        "outputId": "e44c873a-13c3-46d3-d995-259408c07fd8"
      },
      "execution_count": null,
      "outputs": [
        {
          "output_type": "stream",
          "name": "stdout",
          "text": [
            "F_statistic: 0.6019178068930898\n",
            "p_value: 0.5497930622874936\n"
          ]
        }
      ]
    },
    {
      "cell_type": "code",
      "source": [
        "import numpy as np\n",
        "#generate a large volume of random data(e.g. 1 million data points)\n",
        "volume_data = np.random.rand(1000000)\n",
        "print(\"volume of data:\",len(volume_data))"
      ],
      "metadata": {
        "id": "lbtZBHKm6Rqg",
        "colab": {
          "base_uri": "https://localhost:8080/"
        },
        "outputId": "bcd41c68-d3df-4a94-cb5f-b59b3e68421c"
      },
      "execution_count": null,
      "outputs": [
        {
          "output_type": "stream",
          "name": "stdout",
          "text": [
            "volume of data: 1000000\n"
          ]
        }
      ]
    },
    {
      "cell_type": "code",
      "source": [
        "import time\n",
        "#simulate streaming data every second for 10 seconds\n",
        "for i in range(10):\n",
        "  velocity_data = np.random.rand() #generate random data\n",
        "  print(\"velocity data point:\",velocity_data)\n",
        "  time.sleep(1) #wait for 1 second to simulate real -time data stream"
      ],
      "metadata": {
        "colab": {
          "base_uri": "https://localhost:8080/"
        },
        "id": "fOvDg68qMSkr",
        "outputId": "484016ba-1815-4a44-f6df-024df77814ed"
      },
      "execution_count": null,
      "outputs": [
        {
          "output_type": "stream",
          "name": "stdout",
          "text": [
            "velocity data point: 0.7360820983603994\n",
            "velocity data point: 0.5100656741554513\n",
            "velocity data point: 0.378360992192321\n",
            "velocity data point: 0.8348708592851474\n",
            "velocity data point: 0.15089889748332808\n",
            "velocity data point: 0.2819767324799012\n",
            "velocity data point: 0.9131948121695814\n",
            "velocity data point: 0.4721365776862432\n",
            "velocity data point: 0.2986236864286739\n",
            "velocity data point: 0.7822489993388714\n"
          ]
        }
      ]
    },
    {
      "cell_type": "code",
      "source": [
        "#structured data\n",
        "structured_data = {'id':1,'name':'john','age':30}\n",
        "print(structured_data)\n",
        "#semi-structured data(JSON)\n",
        "semi_structured_data = {'name':'Alice','age':25,'city':'New york'}\n",
        "#unstructured data(text)\n",
        "unstructured_data = 'this is a sample text document.it can contain any'"
      ],
      "metadata": {
        "colab": {
          "base_uri": "https://localhost:8080/"
        },
        "id": "Mj_ibEu-NB9w",
        "outputId": "63c35a3c-4df7-4d5d-d032-db2b725d9169"
      },
      "execution_count": null,
      "outputs": [
        {
          "output_type": "stream",
          "name": "stdout",
          "text": [
            "{'id': 1, 'name': 'john', 'age': 30}\n"
          ]
        }
      ]
    },
    {
      "cell_type": "code",
      "source": [
        "import random\n",
        "#generate some random data with noise\n",
        "veracity_data = [random.choice([1,2,3,None]) for _ in range(20)]\n",
        "print(\"veracity data:\",veracity_data)"
      ],
      "metadata": {
        "colab": {
          "base_uri": "https://localhost:8080/"
        },
        "id": "15HOLuWjN99Z",
        "outputId": "1df7cb39-4117-4001-9b99-de8b556997f3"
      },
      "execution_count": null,
      "outputs": [
        {
          "output_type": "stream",
          "name": "stdout",
          "text": [
            "veracity data: [3, 3, 3, 3, 2, 1, 1, None, 3, 1, 3, 1, None, None, 2, 2, 3, None, 1, 1]\n"
          ]
        }
      ]
    },
    {
      "cell_type": "code",
      "source": [],
      "metadata": {
        "id": "iLz4rCZWPiSg"
      },
      "execution_count": null,
      "outputs": []
    }
  ]
}